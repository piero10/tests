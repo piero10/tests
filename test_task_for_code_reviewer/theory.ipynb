{
 "cells": [
  {
   "cell_type": "markdown",
   "metadata": {},
   "source": [
    "### Task 3\n",
    "\n",
    "How would you answer the student's question below? \n",
    "\n",
    "Your task is to get your message across in such a way that a beginner can understand your explanation. \n",
    "\n",
    "You can do this any way you want (pictures, GIFs, metaphors, anything) so long as it makes your explanation clear.\n",
    "\n",
    "Answer the question: ***\"What is the difference between DataFrame and Series?\"***\n",
    "\n",
    "Indicate how much time you spent completing this task."
   ]
  },
  {
   "cell_type": "markdown",
   "metadata": {},
   "source": [
    "### Answer 3\n",
    "\n",
    "Simple: DataFrame is a table and Series is a column of table.\n",
    "\n",
    "Hard: DataFrame is two-dimensional size-mutable, potentially different data types data structure with labeled axes (rows and columns). An the Series is the data structure for a single column of a DataFrame with one data type .\n",
    "\n",
    "Series can be only int or str or float or etc. DataFrame has many Series(columns) and they can be different. One int, another str etc.\n",
    "\n",
    "Let's imagine that you have a big wardrobe with many drawers. All drawers have a caption: trousers, boots, breeches, jackets and so on. You can put trousers to trousers drawer, boots to boots drawer and the same for all you clothes. It is helps you to find what you need and you always know where is you jacket. \n",
    "\n",
    "So, drawers is Series (columns) and wardrobe is DataFrame. "
   ]
  },
  {
   "cell_type": "markdown",
   "metadata": {},
   "source": [
    "### Task 4\n",
    "\n",
    "You are given two random variables X and Y.\n",
    "\n",
    "E(x) = 0.5, Var(x) = 2\n",
    "\n",
    "E(y) = 7, Var(y) = 3.5\n",
    "\n",
    "cov(x, y) = -0.8\n",
    "\n",
    "***Find the variance of the random variable Z = 2X - 3Y***"
   ]
  },
  {
   "cell_type": "markdown",
   "metadata": {},
   "source": [
    "## Answer 4\n",
    "\n",
    "Here we need knowlege from Probability theory.\n",
    "\n",
    "As known: Var(x) = E(x-Ex)^2 and we can do this:\n",
    "\n",
    "E(x-Ex)^2 = E(x^2 - 2x*Ex + (Ex)^2) = Ex^2 - 2Ex*Ex + (Ex)^2 = Ex^2 - 2(Ex)^2 + (Ex)^2 = Ex^2-(Ex)^2 = Ex^2 - (Ex)^2\n",
    "\n",
    "And this:\n",
    "\n",
    "Var(x-y) = E(x-y)^2 -(E(x-y))^2 = E(x^2 - 2xy + y^2) - (Ex-Ey)^2 = Ex^2 - 2E(xy) + Ey^2 - (Ex)^2 + 2Ex*Ey - (Ey)^2 =\n",
    "\n",
    "= Ex^2-(Ex)^2 + Ey^2-(Ey)^2 - 2(E(xy)-Ex*Ey)\n",
    "\n",
    "And Ex^2-(Ex)^2 + Ey^2-(Ey)^2 - 2(E(xy)-Ex*Ey) = Var(x) + Var(y) -2cov(x, y) \n",
    "\n",
    "We have all of them, so:\n",
    "\n",
    "Var(z) = Var(2x-3y) = Var2x + Var3y - 2cov(2x,3y) = 4Var(x) + 9Var(y) - 12cov(x,y) = 4*2 + 9*3.5 - 12*(-0.8) = 49.1\n",
    "\n",
    "\n",
    "***The variance of the random variable Z= 49.1***"
   ]
  },
  {
   "cell_type": "markdown",
   "metadata": {},
   "source": [
    "### Task 5\n",
    "\n",
    "Omer trained a linear regression model and tested its performance on a test sample of 500\n",
    "objects. \n",
    "\n",
    "On ***400*** of those, the model returned a prediction higher than expected by ***0.5***, \n",
    "\n",
    "and on the remaining ***100***, the model returned a prediction lower than expected by ***0.7***.\n",
    "\n",
    "***What is the MSE for his model?***\n",
    "\n",
    "Limor claims that the linear regression model wasn't trained correctly, \n",
    "\n",
    "and we can do improve it by changing all the answers by a constant value. \n",
    "\n",
    "***What will be her MSE?***\n",
    "\n",
    "You can assume that Limor found the smallest error under her constraints.\n",
    "\n",
    "***Return two values - Omer's and Limor's MSE.***"
   ]
  },
  {
   "cell_type": "markdown",
   "metadata": {},
   "source": [
    "### Answer 5\n",
    "\n",
    "MSE is the average squared difference between the estimated values and the actual value divided into number of actual values.\n",
    "\n",
    "We know difference, so we need to squared it and divided into number of actual values.\n",
    "\n",
    "\n",
    "***Omer's MSE is*** (0.5^2 + (-0.7)^2)/500 = ***0.005525***\n",
    "\n",
    "\n",
    "\n",
    "Limor said that we need a constant value. It is median: -0.01\n",
    "\n",
    "\n",
    "***Limor's MSE is*** (-0.1^2)/500 = ***0.00002***"
   ]
  }
 ],
 "metadata": {
  "kernelspec": {
   "display_name": "Python 3",
   "language": "python",
   "name": "python3"
  },
  "language_info": {
   "codemirror_mode": {
    "name": "ipython",
    "version": 3
   },
   "file_extension": ".py",
   "mimetype": "text/x-python",
   "name": "python",
   "nbconvert_exporter": "python",
   "pygments_lexer": "ipython3",
   "version": "3.7.4"
  }
 },
 "nbformat": 4,
 "nbformat_minor": 4
}
