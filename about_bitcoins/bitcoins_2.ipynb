{
 "cells": [
  {
   "cell_type": "code",
   "execution_count": 1,
   "metadata": {},
   "outputs": [],
   "source": [
    "#импорт библиотек\n",
    "import pandas as pd\n",
    "import numpy as np"
   ]
  },
  {
   "cell_type": "code",
   "execution_count": 2,
   "metadata": {},
   "outputs": [],
   "source": [
    "address_clust = pd.read_csv('address_clust.csv')\n",
    "address_stats = pd.read_csv('address_stats.csv')\n",
    "address_stats = address_stats.drop_duplicates().reset_index(drop=True)\n",
    "new_clusters = address_stats.merge(address_clust, on = 'address_id', how = 'outer')\n",
    "new_clusters['cluster_id'] = new_clusters['cluster_id'].fillna(value='0').astype(int)"
   ]
  },
  {
   "cell_type": "code",
   "execution_count": 3,
   "metadata": {},
   "outputs": [
    {
     "name": "stdout",
     "output_type": "stream",
     "text": [
      "<class 'pandas.core.frame.DataFrame'>\n",
      "RangeIndex: 13753 entries, 0 to 13752\n",
      "Data columns (total 2 columns):\n",
      " #   Column          Non-Null Count  Dtype \n",
      "---  ------          --------------  ----- \n",
      " 0   transaction_id  13753 non-null  object\n",
      " 1   id              13753 non-null  int64 \n",
      "dtypes: int64(1), object(1)\n",
      "memory usage: 215.0+ KB\n"
     ]
    }
   ],
   "source": [
    "tranzactions = new_clusters.groupby('transaction_id').agg({'id': 'count'}).reset_index()\n",
    "tranzactions['transaction_id']=tranzactions['transaction_id'].astype(str)\n",
    "tranzactions.info()"
   ]
  },
  {
   "cell_type": "markdown",
   "metadata": {},
   "source": [
    "***Тут сделали группировку по transaction_id, второй столбец для массовки и проверки всё ли посчитали.\n",
    "transaction_id у нас ключевой столбец, по нему считается всё.***"
   ]
  },
  {
   "cell_type": "code",
   "execution_count": 4,
   "metadata": {},
   "outputs": [],
   "source": [
    "def clusters(row):\n",
    "    \"\"\"Функция для подсчета сколько биткоинов отправлено из одного кластера в другой.\n",
    "\n",
    "    Функция принимает на вход строку с transaction_id и далее считает сумму\n",
    "    для каждой транзакции по кластерам. Далее считаются доли отправленных и\n",
    "    полученных биткоинов. В конце количество отправленных умножается на долю полученных\n",
    "    \"\"\"\n",
    "\n",
    "    transaction_id = row['transaction_id']\n",
    "    tranz = new_clusters.query('transaction_id=='+transaction_id)\n",
    "    s1= tranz.query('cluster_id==1')['sent'].sum() #сумма отправленных в кластере 1\n",
    "    s2=tranz.query('cluster_id==2')['sent'].sum() #сумма отправленных в кластере 2\n",
    "    s0=tranz.query('cluster_id==0')['sent'].sum() #сумма отправленных в кластере 0\n",
    "    r1= tranz.query('cluster_id==1')['received'].sum() #сумма полученных в кластере 1\n",
    "    r2= tranz.query('cluster_id==2')['received'].sum() #сумма полученных в кластере 2\n",
    "    r0= tranz.query('cluster_id==0')['received'].sum() #сумма полученных в кластере 0\n",
    "    \n",
    "    if from_clust==1 and s1==0: #если нет отправленных, то не учитывыется при подсчете\n",
    "        return 0\n",
    "    if from_clust==2 and s2==0: #если нет отправленных, то не учитывыется при подсчете\n",
    "        return 0\n",
    "    if from_clust==0 and s0==0: #если нет отправленных, то не учитывыется при подсчете\n",
    "        return 0\n",
    "    if to_clust==1 and r1==0: #если нет полученных, то не учитывыется при подсчете\n",
    "        return 0\n",
    "    if to_clust==2 and r2==0: #если нет полученных, то не учитывыется при подсчете\n",
    "        return 0\n",
    "    if to_clust==0 and r0==0: #если нет полученных, то не учитывыется при подсчете\n",
    "        return 0    \n",
    "    \n",
    "    if from_clust==1: #количество отправленных в кластере 1 умноженное на долю отправленных этим кластером \n",
    "        result=s1*(s1/(s1+s2+s0))\n",
    "    if from_clust==2: #количество отправленных в кластере 2 умноженное на долю отправленных этим кластером \n",
    "        result=s2*(s2/(s1+s2+s0))\n",
    "    if from_clust==0: #количество отправленных в кластере 0 умноженное на долю отправленных этим кластером \n",
    "        result=s0*(s0/(s1+s2+s0))\n",
    "    if to_clust==1: #доля полученных в кластере 1\n",
    "        k_rec=r1/(r1+r2+r0)\n",
    "    if to_clust==2: #доля полученных в кластере 2\n",
    "        k_rec=r2/(r1+r2+r0)\n",
    "    if to_clust==0: #доля полученных в кластере 0\n",
    "        k_rec=r0/(r1+r2+r0)\n",
    "        \n",
    "    return result*k_rec #умножение"
   ]
  },
  {
   "cell_type": "markdown",
   "metadata": {},
   "source": [
    "Итак, мы задаем 2 переменные:\n",
    "- from_clust из какого кластера отправлено\n",
    "- to_clust в какой кластер отправлено\n",
    "\n",
    "Далее из полученной таблицы с transaction_id берем кажду строку и передаем ее в функцию.\n",
    "\n",
    "Объявляем переменные для суммы полученных и отправленных в каждом кластере.\n",
    "\n",
    "Пишем условия, где значение будет 0(чтобы точно верную сумму получить).\n",
    "\n",
    "Далее получаем количество отправленных в кластерах и доли полученных в кластерах и перемножаем."
   ]
  },
  {
   "cell_type": "code",
   "execution_count": 5,
   "metadata": {},
   "outputs": [
    {
     "name": "stdout",
     "output_type": "stream",
     "text": [
      "Сатоши из кластера 1 в кластер 2 отправлено:  6473247884.412515\n"
     ]
    }
   ],
   "source": [
    "from_clust=1\n",
    "to_clust=2\n",
    "tranzactions['column_one'] = tranzactions.apply(clusters, axis=1)\n",
    "print('Сатоши из кластера 1 в кластер 2 отправлено: ',tranzactions.column_one.sum())"
   ]
  },
  {
   "cell_type": "code",
   "execution_count": 6,
   "metadata": {},
   "outputs": [
    {
     "name": "stdout",
     "output_type": "stream",
     "text": [
      "Сатоши из кластера 2 в кластер 1 отправлено:  6806727577.694637\n"
     ]
    }
   ],
   "source": [
    "from_clust=2\n",
    "to_clust=1\n",
    "tranzactions['column_two'] = tranzactions.apply(clusters, axis=1)\n",
    "print('Сатоши из кластера 2 в кластер 1 отправлено: ',tranzactions.column_two.sum())"
   ]
  },
  {
   "cell_type": "code",
   "execution_count": 7,
   "metadata": {},
   "outputs": [
    {
     "name": "stdout",
     "output_type": "stream",
     "text": [
      "Сатоши из кластера 1 в кластер 0 отправлено:  29167612941.802597\n"
     ]
    }
   ],
   "source": [
    "from_clust=1\n",
    "to_clust=0\n",
    "tranzactions['column_three'] = tranzactions.apply(clusters, axis=1)\n",
    "print('Сатоши из кластера 1 в кластер 0 отправлено: ',tranzactions.column_three.sum())"
   ]
  },
  {
   "cell_type": "code",
   "execution_count": 8,
   "metadata": {},
   "outputs": [
    {
     "name": "stdout",
     "output_type": "stream",
     "text": [
      "Сатоши из кластера 0 в кластер 1 отправлено:  28916274183.57309\n"
     ]
    }
   ],
   "source": [
    "from_clust=0\n",
    "to_clust=1\n",
    "tranzactions['column_four'] = tranzactions.apply(clusters, axis=1)\n",
    "print('Сатоши из кластера 0 в кластер 1 отправлено: ',tranzactions.column_four.sum())"
   ]
  },
  {
   "cell_type": "code",
   "execution_count": 9,
   "metadata": {},
   "outputs": [
    {
     "name": "stdout",
     "output_type": "stream",
     "text": [
      "Сатоши из кластера 2 в кластер 0 отправлено:  243721256.44623548\n"
     ]
    }
   ],
   "source": [
    "from_clust=2\n",
    "to_clust=0\n",
    "tranzactions['column_five'] = tranzactions.apply(clusters, axis=1)\n",
    "print('Сатоши из кластера 2 в кластер 0 отправлено: ',tranzactions.column_five.sum())"
   ]
  },
  {
   "cell_type": "code",
   "execution_count": 10,
   "metadata": {},
   "outputs": [
    {
     "name": "stdout",
     "output_type": "stream",
     "text": [
      "Сатоши из кластера 0 в кластер 2 отправлено:  610432873.9895253\n"
     ]
    }
   ],
   "source": [
    "from_clust=0\n",
    "to_clust=2\n",
    "tranzactions['column_six'] = tranzactions.apply(clusters, axis=1)\n",
    "print('Сатоши из кластера 0 в кластер 2 отправлено: ',tranzactions.column_six.sum())"
   ]
  },
  {
   "cell_type": "code",
   "execution_count": 11,
   "metadata": {},
   "outputs": [
    {
     "data": {
      "text/html": [
       "<div>\n",
       "<style scoped>\n",
       "    .dataframe tbody tr th:only-of-type {\n",
       "        vertical-align: middle;\n",
       "    }\n",
       "\n",
       "    .dataframe tbody tr th {\n",
       "        vertical-align: top;\n",
       "    }\n",
       "\n",
       "    .dataframe thead th {\n",
       "        text-align: right;\n",
       "    }\n",
       "</style>\n",
       "<table border=\"1\" class=\"dataframe\">\n",
       "  <thead>\n",
       "    <tr style=\"text-align: right;\">\n",
       "      <th></th>\n",
       "      <th>transaction_id</th>\n",
       "      <th>cluster_id</th>\n",
       "      <th>received</th>\n",
       "      <th>sent</th>\n",
       "      <th>fee</th>\n",
       "    </tr>\n",
       "  </thead>\n",
       "  <tbody>\n",
       "    <tr>\n",
       "      <th>0</th>\n",
       "      <td>19162323</td>\n",
       "      <td>0</td>\n",
       "      <td>1821052.0</td>\n",
       "      <td>2871052.0</td>\n",
       "      <td>1050000.0</td>\n",
       "    </tr>\n",
       "    <tr>\n",
       "      <th>1</th>\n",
       "      <td>19162323</td>\n",
       "      <td>1</td>\n",
       "      <td>1000000.0</td>\n",
       "      <td>0.0</td>\n",
       "      <td>-1000000.0</td>\n",
       "    </tr>\n",
       "    <tr>\n",
       "      <th>2</th>\n",
       "      <td>19166856</td>\n",
       "      <td>0</td>\n",
       "      <td>990000.0</td>\n",
       "      <td>0.0</td>\n",
       "      <td>-990000.0</td>\n",
       "    </tr>\n",
       "    <tr>\n",
       "      <th>3</th>\n",
       "      <td>19166856</td>\n",
       "      <td>1</td>\n",
       "      <td>0.0</td>\n",
       "      <td>1000000.0</td>\n",
       "      <td>1000000.0</td>\n",
       "    </tr>\n",
       "    <tr>\n",
       "      <th>4</th>\n",
       "      <td>19174421</td>\n",
       "      <td>0</td>\n",
       "      <td>4590000.0</td>\n",
       "      <td>4800000.0</td>\n",
       "      <td>210000.0</td>\n",
       "    </tr>\n",
       "  </tbody>\n",
       "</table>\n",
       "</div>"
      ],
      "text/plain": [
       "   transaction_id  cluster_id   received       sent        fee\n",
       "0        19162323           0  1821052.0  2871052.0  1050000.0\n",
       "1        19162323           1  1000000.0        0.0 -1000000.0\n",
       "2        19166856           0   990000.0        0.0  -990000.0\n",
       "3        19166856           1        0.0  1000000.0  1000000.0\n",
       "4        19174421           0  4590000.0  4800000.0   210000.0"
      ]
     },
     "metadata": {},
     "output_type": "display_data"
    }
   ],
   "source": [
    "#выведем fee в отдельный столбец\n",
    "fee = new_clusters.groupby(['transaction_id','cluster_id']).agg({'received':'sum', 'sent':'sum'}).reset_index()\n",
    "fee['fee'] = fee['sent']-fee['received']\n",
    "display(fee.head())"
   ]
  },
  {
   "cell_type": "code",
   "execution_count": 12,
   "metadata": {},
   "outputs": [
    {
     "name": "stdout",
     "output_type": "stream",
     "text": [
      "Кластер 1 потратил на fee: 35663479860.0\n",
      "Кластер 2 потратил на fee: 7071802861.0\n"
     ]
    }
   ],
   "source": [
    "print('Кластер 1 потратил на fee:', (fee.query(\"cluster_id==1 & fee >= 0\")['fee']).sum())\n",
    "print('Кластер 2 потратил на fee:', (fee.query(\"cluster_id==2 & fee >= 0\")['fee']).sum())"
   ]
  }
 ],
 "metadata": {
  "kernelspec": {
   "display_name": "Python 3",
   "language": "python",
   "name": "python3"
  },
  "language_info": {
   "codemirror_mode": {
    "name": "ipython",
    "version": 3
   },
   "file_extension": ".py",
   "mimetype": "text/x-python",
   "name": "python",
   "nbconvert_exporter": "python",
   "pygments_lexer": "ipython3",
   "version": "3.7.4"
  }
 },
 "nbformat": 4,
 "nbformat_minor": 4
}
