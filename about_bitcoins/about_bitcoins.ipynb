{
 "cells": [
  {
   "cell_type": "markdown",
   "metadata": {},
   "source": [
    "# About bitcoins\n",
    "The bitcoin blockchain stores all addresses ever used and transactions between them. Despite the seeming anonymity of this cryptocurrency, there are well-known methods that allow you to link many addresses, assuming that they belong to the same owner (this can be a person or a company). Since all transactions between addresses are transparent, we can see how much money has gone from one owner to another (this is called cash flow).\n",
    "\n",
    "***It is necessary to calculate cash flow between two clusters.***\n",
    "\n",
    "***Important***\n",
    "\n",
    "A bitcoin transaction is a set of input and output addresses, as well as an indication of how many bitcoins each address contributes to a given transaction (for input) or takes from a transaction (for output).It is worth noting that nothing is known about how many bitcoins a particular input address forwards on any other weekend. Also, part of the funds from the amount of inputs goes as a fee (fee) for miners when a transaction is included in a new block. We can find fee (fee> = 0) as the difference between the sum of the inputs and the sum of the outputs of the transaction."
   ]
  },
  {
   "cell_type": "code",
   "execution_count": 1,
   "metadata": {},
   "outputs": [],
   "source": [
    "#library import\n",
    "import pandas as pd\n",
    "import numpy as np"
   ]
  },
  {
   "cell_type": "markdown",
   "metadata": {},
   "source": [
    "#### Table with addresses and clusters"
   ]
  },
  {
   "cell_type": "code",
   "execution_count": 2,
   "metadata": {},
   "outputs": [
    {
     "data": {
      "text/html": [
       "<div>\n",
       "<style scoped>\n",
       "    .dataframe tbody tr th:only-of-type {\n",
       "        vertical-align: middle;\n",
       "    }\n",
       "\n",
       "    .dataframe tbody tr th {\n",
       "        vertical-align: top;\n",
       "    }\n",
       "\n",
       "    .dataframe thead th {\n",
       "        text-align: right;\n",
       "    }\n",
       "</style>\n",
       "<table border=\"1\" class=\"dataframe\">\n",
       "  <thead>\n",
       "    <tr style=\"text-align: right;\">\n",
       "      <th></th>\n",
       "      <th>address_id</th>\n",
       "      <th>cluster_id</th>\n",
       "    </tr>\n",
       "  </thead>\n",
       "  <tbody>\n",
       "    <tr>\n",
       "      <th>0</th>\n",
       "      <td>71413451</td>\n",
       "      <td>1</td>\n",
       "    </tr>\n",
       "    <tr>\n",
       "      <th>1</th>\n",
       "      <td>71411914</td>\n",
       "      <td>1</td>\n",
       "    </tr>\n",
       "    <tr>\n",
       "      <th>2</th>\n",
       "      <td>71410369</td>\n",
       "      <td>1</td>\n",
       "    </tr>\n",
       "    <tr>\n",
       "      <th>3</th>\n",
       "      <td>71410100</td>\n",
       "      <td>1</td>\n",
       "    </tr>\n",
       "    <tr>\n",
       "      <th>4</th>\n",
       "      <td>71410040</td>\n",
       "      <td>1</td>\n",
       "    </tr>\n",
       "  </tbody>\n",
       "</table>\n",
       "</div>"
      ],
      "text/plain": [
       "   address_id  cluster_id\n",
       "0    71413451           1\n",
       "1    71411914           1\n",
       "2    71410369           1\n",
       "3    71410100           1\n",
       "4    71410040           1"
      ]
     },
     "metadata": {},
     "output_type": "display_data"
    }
   ],
   "source": [
    "#check table with addresses and clusters\n",
    "address_clust = pd.read_csv('address_clust.csv')\n",
    "display(address_clust.head())"
   ]
  },
  {
   "cell_type": "code",
   "execution_count": 3,
   "metadata": {
    "scrolled": false
   },
   "outputs": [
    {
     "name": "stdout",
     "output_type": "stream",
     "text": [
      "<class 'pandas.core.frame.DataFrame'>\n",
      "RangeIndex: 6996 entries, 0 to 6995\n",
      "Data columns (total 2 columns):\n",
      " #   Column      Non-Null Count  Dtype\n",
      "---  ------      --------------  -----\n",
      " 0   address_id  6996 non-null   int64\n",
      " 1   cluster_id  6996 non-null   int64\n",
      "dtypes: int64(2)\n",
      "memory usage: 109.4 KB\n"
     ]
    }
   ],
   "source": [
    "address_clust.info()"
   ]
  },
  {
   "cell_type": "code",
   "execution_count": 4,
   "metadata": {},
   "outputs": [
    {
     "data": {
      "text/plain": [
       "0"
      ]
     },
     "execution_count": 4,
     "metadata": {},
     "output_type": "execute_result"
    }
   ],
   "source": [
    "#check duplicates\n",
    "address_clust.duplicated().sum()"
   ]
  },
  {
   "cell_type": "code",
   "execution_count": 5,
   "metadata": {
    "scrolled": true
   },
   "outputs": [
    {
     "data": {
      "text/plain": [
       "address_id    0\n",
       "cluster_id    0\n",
       "dtype: int64"
      ]
     },
     "execution_count": 5,
     "metadata": {},
     "output_type": "execute_result"
    }
   ],
   "source": [
    "#check nulls\n",
    "address_clust.isnull().sum()"
   ]
  },
  {
   "cell_type": "markdown",
   "metadata": {},
   "source": [
    "#### Conclusion\n",
    "\n",
    "We have 6996 entries and 2 columns:\n",
    "- address_id - input and output addresses\n",
    "- cluster_id - cluster (1 or 2)\n",
    "\n",
    "No duplicates or nulls, data types are normal."
   ]
  },
  {
   "cell_type": "markdown",
   "metadata": {},
   "source": [
    "#### Table with tranzactions"
   ]
  },
  {
   "cell_type": "code",
   "execution_count": 6,
   "metadata": {
    "scrolled": false
   },
   "outputs": [
    {
     "data": {
      "text/html": [
       "<div>\n",
       "<style scoped>\n",
       "    .dataframe tbody tr th:only-of-type {\n",
       "        vertical-align: middle;\n",
       "    }\n",
       "\n",
       "    .dataframe tbody tr th {\n",
       "        vertical-align: top;\n",
       "    }\n",
       "\n",
       "    .dataframe thead th {\n",
       "        text-align: right;\n",
       "    }\n",
       "</style>\n",
       "<table border=\"1\" class=\"dataframe\">\n",
       "  <thead>\n",
       "    <tr style=\"text-align: right;\">\n",
       "      <th></th>\n",
       "      <th>id</th>\n",
       "      <th>address_id</th>\n",
       "      <th>transaction_id</th>\n",
       "      <th>received</th>\n",
       "      <th>sent</th>\n",
       "    </tr>\n",
       "  </thead>\n",
       "  <tbody>\n",
       "    <tr>\n",
       "      <th>0</th>\n",
       "      <td>87134765</td>\n",
       "      <td>46402336</td>\n",
       "      <td>19162323</td>\n",
       "      <td>0.0</td>\n",
       "      <td>1800000.0</td>\n",
       "    </tr>\n",
       "    <tr>\n",
       "      <th>1</th>\n",
       "      <td>87134766</td>\n",
       "      <td>45919235</td>\n",
       "      <td>19162323</td>\n",
       "      <td>0.0</td>\n",
       "      <td>1071052.0</td>\n",
       "    </tr>\n",
       "    <tr>\n",
       "      <th>2</th>\n",
       "      <td>87134767</td>\n",
       "      <td>46529090</td>\n",
       "      <td>19162323</td>\n",
       "      <td>1000000.0</td>\n",
       "      <td>0.0</td>\n",
       "    </tr>\n",
       "    <tr>\n",
       "      <th>3</th>\n",
       "      <td>87134768</td>\n",
       "      <td>46529091</td>\n",
       "      <td>19162323</td>\n",
       "      <td>1821052.0</td>\n",
       "      <td>0.0</td>\n",
       "    </tr>\n",
       "    <tr>\n",
       "      <th>4</th>\n",
       "      <td>87154706</td>\n",
       "      <td>46529090</td>\n",
       "      <td>19166856</td>\n",
       "      <td>0.0</td>\n",
       "      <td>1000000.0</td>\n",
       "    </tr>\n",
       "  </tbody>\n",
       "</table>\n",
       "</div>"
      ],
      "text/plain": [
       "         id  address_id  transaction_id   received       sent\n",
       "0  87134765    46402336        19162323        0.0  1800000.0\n",
       "1  87134766    45919235        19162323        0.0  1071052.0\n",
       "2  87134767    46529090        19162323  1000000.0        0.0\n",
       "3  87134768    46529091        19162323  1821052.0        0.0\n",
       "4  87154706    46529090        19166856        0.0  1000000.0"
      ]
     },
     "metadata": {},
     "output_type": "display_data"
    }
   ],
   "source": [
    "#check table with tranzactions\n",
    "address_stats = pd.read_csv('address_stats.csv')\n",
    "display(address_stats.head())"
   ]
  },
  {
   "cell_type": "code",
   "execution_count": 7,
   "metadata": {},
   "outputs": [
    {
     "name": "stdout",
     "output_type": "stream",
     "text": [
      "<class 'pandas.core.frame.DataFrame'>\n",
      "RangeIndex: 76724 entries, 0 to 76723\n",
      "Data columns (total 5 columns):\n",
      " #   Column          Non-Null Count  Dtype  \n",
      "---  ------          --------------  -----  \n",
      " 0   id              76724 non-null  int64  \n",
      " 1   address_id      76724 non-null  int64  \n",
      " 2   transaction_id  76724 non-null  int64  \n",
      " 3   received        76724 non-null  float64\n",
      " 4   sent            76724 non-null  float64\n",
      "dtypes: float64(2), int64(3)\n",
      "memory usage: 2.9 MB\n"
     ]
    }
   ],
   "source": [
    "address_stats.info()"
   ]
  },
  {
   "cell_type": "code",
   "execution_count": 8,
   "metadata": {},
   "outputs": [
    {
     "data": {
      "text/plain": [
       "0"
      ]
     },
     "execution_count": 8,
     "metadata": {},
     "output_type": "execute_result"
    }
   ],
   "source": [
    "#check duplicates\n",
    "#address_stats.duplicated().sum()\n",
    "address_stats = address_stats.drop_duplicates().reset_index(drop=True)\n",
    "address_stats.duplicated().sum()"
   ]
  },
  {
   "cell_type": "code",
   "execution_count": 9,
   "metadata": {
    "scrolled": true
   },
   "outputs": [
    {
     "data": {
      "text/plain": [
       "id                0\n",
       "address_id        0\n",
       "transaction_id    0\n",
       "received          0\n",
       "sent              0\n",
       "dtype: int64"
      ]
     },
     "execution_count": 9,
     "metadata": {},
     "output_type": "execute_result"
    }
   ],
   "source": [
    "#check nulls\n",
    "address_stats.isnull().sum()"
   ]
  },
  {
   "cell_type": "markdown",
   "metadata": {},
   "source": [
    "#### Conclusion\n",
    "We have 76724 entries и 5 columns:\n",
    "\n",
    "- id - id \n",
    "- address_id - input and output addresses\n",
    "- transaction_id - transaction\n",
    "- received - the amount in satoshi (1 bitcoin = 10 ^ 8 satoshi) received by this address in this transaction\n",
    "- sent - the amount in satoshi sent by this address in this transaction\n",
    "\n",
    "No nulls, data types are normal.\n",
    "\n",
    "In address_id we have additional addresses, that are external to cluster 1 and 2; now it is cluster 0.\n",
    "\n",
    "We had 22279 duplicates - 29% of all. On the one hand, this is a lot, on the other, it is a complete double.\n",
    "I decided to delete them, because a full take will increase the amounts for us, and we do not need this."
   ]
  },
  {
   "cell_type": "markdown",
   "metadata": {},
   "source": [
    "#### Merge table"
   ]
  },
  {
   "cell_type": "code",
   "execution_count": 10,
   "metadata": {},
   "outputs": [],
   "source": [
    "#merge tables\n",
    "new_clusters = address_stats.merge(address_clust, on = 'address_id', how = 'outer')"
   ]
  },
  {
   "cell_type": "code",
   "execution_count": 11,
   "metadata": {
    "scrolled": true
   },
   "outputs": [
    {
     "name": "stdout",
     "output_type": "stream",
     "text": [
      "<class 'pandas.core.frame.DataFrame'>\n",
      "Int64Index: 54445 entries, 0 to 54444\n",
      "Data columns (total 6 columns):\n",
      " #   Column          Non-Null Count  Dtype  \n",
      "---  ------          --------------  -----  \n",
      " 0   id              54445 non-null  int64  \n",
      " 1   address_id      54445 non-null  int64  \n",
      " 2   transaction_id  54445 non-null  int64  \n",
      " 3   received        54445 non-null  float64\n",
      " 4   sent            54445 non-null  float64\n",
      " 5   cluster_id      37625 non-null  float64\n",
      "dtypes: float64(3), int64(3)\n",
      "memory usage: 2.9 MB\n"
     ]
    }
   ],
   "source": [
    "new_clusters.info()"
   ]
  },
  {
   "cell_type": "code",
   "execution_count": 12,
   "metadata": {
    "scrolled": true
   },
   "outputs": [
    {
     "data": {
      "text/html": [
       "<div>\n",
       "<style scoped>\n",
       "    .dataframe tbody tr th:only-of-type {\n",
       "        vertical-align: middle;\n",
       "    }\n",
       "\n",
       "    .dataframe tbody tr th {\n",
       "        vertical-align: top;\n",
       "    }\n",
       "\n",
       "    .dataframe thead th {\n",
       "        text-align: right;\n",
       "    }\n",
       "</style>\n",
       "<table border=\"1\" class=\"dataframe\">\n",
       "  <thead>\n",
       "    <tr style=\"text-align: right;\">\n",
       "      <th></th>\n",
       "      <th>id</th>\n",
       "      <th>address_id</th>\n",
       "      <th>transaction_id</th>\n",
       "      <th>received</th>\n",
       "      <th>sent</th>\n",
       "      <th>cluster_id</th>\n",
       "    </tr>\n",
       "  </thead>\n",
       "  <tbody>\n",
       "    <tr>\n",
       "      <th>0</th>\n",
       "      <td>87134765</td>\n",
       "      <td>46402336</td>\n",
       "      <td>19162323</td>\n",
       "      <td>0.0</td>\n",
       "      <td>1800000.0</td>\n",
       "      <td>0</td>\n",
       "    </tr>\n",
       "    <tr>\n",
       "      <th>1</th>\n",
       "      <td>87154708</td>\n",
       "      <td>46402336</td>\n",
       "      <td>19166856</td>\n",
       "      <td>900000.0</td>\n",
       "      <td>0.0</td>\n",
       "      <td>0</td>\n",
       "    </tr>\n",
       "    <tr>\n",
       "      <th>2</th>\n",
       "      <td>87335816</td>\n",
       "      <td>46402336</td>\n",
       "      <td>19205422</td>\n",
       "      <td>0.0</td>\n",
       "      <td>900000.0</td>\n",
       "      <td>0</td>\n",
       "    </tr>\n",
       "    <tr>\n",
       "      <th>3</th>\n",
       "      <td>88124870</td>\n",
       "      <td>46402336</td>\n",
       "      <td>19374859</td>\n",
       "      <td>5500.0</td>\n",
       "      <td>0.0</td>\n",
       "      <td>0</td>\n",
       "    </tr>\n",
       "    <tr>\n",
       "      <th>4</th>\n",
       "      <td>95910795</td>\n",
       "      <td>46402336</td>\n",
       "      <td>21055878</td>\n",
       "      <td>0.0</td>\n",
       "      <td>5500.0</td>\n",
       "      <td>0</td>\n",
       "    </tr>\n",
       "  </tbody>\n",
       "</table>\n",
       "</div>"
      ],
      "text/plain": [
       "         id  address_id  transaction_id  received       sent  cluster_id\n",
       "0  87134765    46402336        19162323       0.0  1800000.0           0\n",
       "1  87154708    46402336        19166856  900000.0        0.0           0\n",
       "2  87335816    46402336        19205422       0.0   900000.0           0\n",
       "3  88124870    46402336        19374859    5500.0        0.0           0\n",
       "4  95910795    46402336        21055878       0.0     5500.0           0"
      ]
     },
     "metadata": {},
     "output_type": "display_data"
    }
   ],
   "source": [
    "#set 0 cluster for NaN\n",
    "new_clusters['cluster_id'] = new_clusters['cluster_id'].fillna(value='0').astype(int)\n",
    "display(new_clusters.head())"
   ]
  },
  {
   "cell_type": "code",
   "execution_count": 13,
   "metadata": {
    "scrolled": true
   },
   "outputs": [
    {
     "name": "stdout",
     "output_type": "stream",
     "text": [
      "<class 'pandas.core.frame.DataFrame'>\n",
      "Int64Index: 54445 entries, 0 to 54444\n",
      "Data columns (total 6 columns):\n",
      " #   Column          Non-Null Count  Dtype  \n",
      "---  ------          --------------  -----  \n",
      " 0   id              54445 non-null  int64  \n",
      " 1   address_id      54445 non-null  int64  \n",
      " 2   transaction_id  54445 non-null  int64  \n",
      " 3   received        54445 non-null  float64\n",
      " 4   sent            54445 non-null  float64\n",
      " 5   cluster_id      54445 non-null  int32  \n",
      "dtypes: float64(2), int32(1), int64(3)\n",
      "memory usage: 2.7 MB\n"
     ]
    }
   ],
   "source": [
    "new_clusters.info()"
   ]
  },
  {
   "cell_type": "markdown",
   "metadata": {},
   "source": [
    "#### Conclusion\n",
    "Now we have 54445 entries и 6 columns:\n",
    "\n",
    "    id - id\n",
    "    address_id - input and output addresses\n",
    "    transaction_id - transaction\n",
    "    received - the amount in satoshi (1 bitcoin = 10 ^ 8 satoshi) received by this address in this transaction\n",
    "    sent - the amount in satoshi sent by this address in this transaction\n",
    "    cluster_id - 0, 1 or 2 cluster\n",
    "\n",
    "No duplicates or nulls, data type in cluster_id changed."
   ]
  },
  {
   "cell_type": "markdown",
   "metadata": {},
   "source": [
    "#### Calculate bitcoins"
   ]
  },
  {
   "cell_type": "code",
   "execution_count": 14,
   "metadata": {},
   "outputs": [
    {
     "name": "stdout",
     "output_type": "stream",
     "text": [
      "<class 'pandas.core.frame.DataFrame'>\n",
      "RangeIndex: 13753 entries, 0 to 13752\n",
      "Data columns (total 2 columns):\n",
      " #   Column          Non-Null Count  Dtype \n",
      "---  ------          --------------  ----- \n",
      " 0   transaction_id  13753 non-null  object\n",
      " 1   id              13753 non-null  int64 \n",
      "dtypes: int64(1), object(1)\n",
      "memory usage: 215.0+ KB\n"
     ]
    }
   ],
   "source": [
    "#use gropby for unique transaction_id\n",
    "tranzactions = new_clusters.groupby('transaction_id').agg({'id': 'count'}).reset_index()\n",
    "tranzactions['transaction_id']=tranzactions['transaction_id'].astype(str)\n",
    "tranzactions.info()"
   ]
  },
  {
   "cell_type": "code",
   "execution_count": 24,
   "metadata": {},
   "outputs": [],
   "source": [
    "def clusters(row):\n",
    "    \"\"\"Function for calculating how many bitcoins are sent from one cluster to another.\n",
    "\n",
    "    Function accept row with transaction_id and calculate sum(sent) for unique transaction\n",
    "    in clasters. Calculate percentage of received sum. Multiplication and round in the end\n",
    "    \"\"\"\n",
    "\n",
    "    transaction_id = row['transaction_id']\n",
    "    tranz = new_clusters.query('transaction_id=='+transaction_id)\n",
    "    s1= tranz.query('cluster_id==1')['sent'].sum() #сумма отправленных в кластере 1\n",
    "    s2=tranz.query('cluster_id==2')['sent'].sum() #сумма отправленных в кластере 2\n",
    "    s0=tranz.query('cluster_id==0')['sent'].sum() #сумма отправленных в кластере 0\n",
    "    r1= tranz.query('cluster_id==1')['received'].sum() #сумма полученных в кластере 1\n",
    "    r2= tranz.query('cluster_id==2')['received'].sum() #сумма полученных в кластере 2\n",
    "    r0= tranz.query('cluster_id==0')['received'].sum() #сумма полученных в кластере 0\n",
    "    \n",
    "    if from_clust==1 and s1==0: #если нет отправленных, то не учитывыется при подсчете\n",
    "        return 0\n",
    "    if from_clust==2 and s2==0: #если нет отправленных, то не учитывыется при подсчете\n",
    "        return 0\n",
    "    if from_clust==0 and s0==0: #если нет отправленных, то не учитывыется при подсчете\n",
    "        return 0\n",
    "    if to_clust==1 and r1==0: #если нет полученных, то не учитывыется при подсчете\n",
    "        return 0\n",
    "    if to_clust==2 and r2==0: #если нет полученных, то не учитывыется при подсчете\n",
    "        return 0\n",
    "    if to_clust==0 and r0==0: #если нет полученных, то не учитывыется при подсчете\n",
    "        return 0    \n",
    "    \n",
    "    if from_clust==1: #количество отправленных в кластере 1 умноженное на долю отправленных этим кластером \n",
    "        result=s1*(s1/(s1+s2+s0))\n",
    "    if from_clust==2: #количество отправленных в кластере 2 умноженное на долю отправленных этим кластером \n",
    "        result=s2*(s2/(s1+s2+s0))\n",
    "    if from_clust==0: #количество отправленных в кластере 0 умноженное на долю отправленных этим кластером \n",
    "        result=s0*(s0/(s1+s2+s0))\n",
    "    if to_clust==1: #доля полученных в кластере 1\n",
    "        k_rec=r1/(r1+r2+r0)\n",
    "    if to_clust==2: #доля полученных в кластере 2\n",
    "        k_rec=r2/(r1+r2+r0)\n",
    "    if to_clust==0: #доля полученных в кластере 0\n",
    "        k_rec=r0/(r1+r2+r0)\n",
    "        \n",
    "    return round(result*k_rec) #умножение"
   ]
  },
  {
   "cell_type": "code",
   "execution_count": 16,
   "metadata": {},
   "outputs": [
    {
     "name": "stdout",
     "output_type": "stream",
     "text": [
      "The sum of bitcoins from cluster 1 to cluster 2:  64.73247918\n"
     ]
    }
   ],
   "source": [
    "from_clust=1\n",
    "to_clust=2\n",
    "tranzactions['column_one'] = tranzactions.apply(clusters, axis=1)\n",
    "bitcoin_1 = tranzactions.column_one.sum()/ 10**8\n",
    "print('The sum of bitcoins from cluster 1 to cluster 2: ',bitcoin_1)"
   ]
  },
  {
   "cell_type": "code",
   "execution_count": 17,
   "metadata": {},
   "outputs": [
    {
     "name": "stdout",
     "output_type": "stream",
     "text": [
      "The sum of bitcoins from cluster 2 to cluster 1:  68.06727618\n"
     ]
    }
   ],
   "source": [
    "from_clust=2\n",
    "to_clust=1\n",
    "tranzactions['column_two'] = tranzactions.apply(clusters, axis=1)\n",
    "bitcoin_2 = tranzactions.column_two.sum()/ 10**8\n",
    "print('The sum of bitcoins from cluster 2 to cluster 1: ',bitcoin_2)"
   ]
  },
  {
   "cell_type": "code",
   "execution_count": 18,
   "metadata": {},
   "outputs": [
    {
     "name": "stdout",
     "output_type": "stream",
     "text": [
      "The sum of bitcoins from cluster 1 to cluster 0:  291.67612951\n"
     ]
    }
   ],
   "source": [
    "from_clust=1\n",
    "to_clust=0\n",
    "tranzactions['column_three'] = tranzactions.apply(clusters, axis=1)\n",
    "bitcoin_3 = tranzactions.column_three.sum()/ 10**8\n",
    "print('The sum of bitcoins from cluster 1 to cluster 0: ',bitcoin_3)"
   ]
  },
  {
   "cell_type": "code",
   "execution_count": 19,
   "metadata": {},
   "outputs": [
    {
     "name": "stdout",
     "output_type": "stream",
     "text": [
      "The sum of bitcoins from cluster 0 to cluster 1:  289.16274208\n"
     ]
    }
   ],
   "source": [
    "from_clust=0\n",
    "to_clust=1\n",
    "tranzactions['column_four'] = tranzactions.apply(clusters, axis=1)\n",
    "bitcoin_4 = tranzactions.column_four.sum()/ 10**8\n",
    "print('The sum of bitcoins from cluster 0 to cluster 1: ',bitcoin_4)"
   ]
  },
  {
   "cell_type": "code",
   "execution_count": 20,
   "metadata": {},
   "outputs": [
    {
     "name": "stdout",
     "output_type": "stream",
     "text": [
      "The sum of bitcoins from cluster 2 to cluster 0:  2.43721255\n"
     ]
    }
   ],
   "source": [
    "from_clust=2\n",
    "to_clust=0\n",
    "tranzactions['column_five'] = tranzactions.apply(clusters, axis=1)\n",
    "bitcoin_5 = tranzactions.column_five.sum()/ 10**8\n",
    "print('The sum of bitcoins from cluster 2 to cluster 0: ',bitcoin_5)"
   ]
  },
  {
   "cell_type": "code",
   "execution_count": 21,
   "metadata": {
    "scrolled": true
   },
   "outputs": [
    {
     "name": "stdout",
     "output_type": "stream",
     "text": [
      "The sum of bitcoins from cluster 0 to cluster 2:  6.10432863\n"
     ]
    }
   ],
   "source": [
    "from_clust=0\n",
    "to_clust=2\n",
    "tranzactions['column_six'] = tranzactions.apply(clusters, axis=1)\n",
    "bitcoin_6 = tranzactions.column_six.sum()/ 10**8\n",
    "print('The sum of bitcoins from cluster 0 to cluster 2: ',bitcoin_6)"
   ]
  },
  {
   "cell_type": "markdown",
   "metadata": {},
   "source": [
    "#### Conclusion\n",
    "Most bitcoins sent ***from cluster 1 to cluster 0: 291.67612951.***\n",
    "\n",
    "Further, with a small difference, bitcoin transactions. ***from cluster 0 to cluster 1: 289.16274208.*** \n",
    "\n",
    "And further ***from cluster 2 to cluster 1 (68.06727618)*** and ***from cluster 1 to cluster 2 (64.73247918)***\n",
    "\n",
    "At the end we have transactions ***from cluster 0 to cluster 2 (6.10432863)*** and ***from cluster 2 to cluster 0 (2.43721255).***\n",
    "\n",
    "\n",
    "Total bitcoins sent:\n",
    "\n",
    "- from cluster 0 - 295.26707071 bitcoins.\n",
    "\n",
    "- from 1 cluster - 356.40860869 bitcoins.\n",
    "\n",
    "- from 2 clusters - 70.50448873 bitcoins.\n",
    "\n",
    "\n",
    "Total amount: 722.18016813 bitcoins.\n",
    "\n",
    "Since we do not need to calculate how many bitcoins have arrived, we do not take fee."
   ]
  },
  {
   "cell_type": "markdown",
   "metadata": {},
   "source": [
    "#### Calculate fee"
   ]
  },
  {
   "cell_type": "code",
   "execution_count": 22,
   "metadata": {
    "scrolled": true
   },
   "outputs": [
    {
     "data": {
      "text/html": [
       "<div>\n",
       "<style scoped>\n",
       "    .dataframe tbody tr th:only-of-type {\n",
       "        vertical-align: middle;\n",
       "    }\n",
       "\n",
       "    .dataframe tbody tr th {\n",
       "        vertical-align: top;\n",
       "    }\n",
       "\n",
       "    .dataframe thead th {\n",
       "        text-align: right;\n",
       "    }\n",
       "</style>\n",
       "<table border=\"1\" class=\"dataframe\">\n",
       "  <thead>\n",
       "    <tr style=\"text-align: right;\">\n",
       "      <th></th>\n",
       "      <th>transaction_id</th>\n",
       "      <th>cluster_id</th>\n",
       "      <th>received</th>\n",
       "      <th>sent</th>\n",
       "      <th>fee</th>\n",
       "    </tr>\n",
       "  </thead>\n",
       "  <tbody>\n",
       "    <tr>\n",
       "      <th>0</th>\n",
       "      <td>19162323</td>\n",
       "      <td>0</td>\n",
       "      <td>1821052.0</td>\n",
       "      <td>2871052.0</td>\n",
       "      <td>0.0105</td>\n",
       "    </tr>\n",
       "    <tr>\n",
       "      <th>1</th>\n",
       "      <td>19162323</td>\n",
       "      <td>1</td>\n",
       "      <td>1000000.0</td>\n",
       "      <td>0.0</td>\n",
       "      <td>-0.0100</td>\n",
       "    </tr>\n",
       "    <tr>\n",
       "      <th>2</th>\n",
       "      <td>19166856</td>\n",
       "      <td>0</td>\n",
       "      <td>990000.0</td>\n",
       "      <td>0.0</td>\n",
       "      <td>-0.0099</td>\n",
       "    </tr>\n",
       "    <tr>\n",
       "      <th>3</th>\n",
       "      <td>19166856</td>\n",
       "      <td>1</td>\n",
       "      <td>0.0</td>\n",
       "      <td>1000000.0</td>\n",
       "      <td>0.0100</td>\n",
       "    </tr>\n",
       "    <tr>\n",
       "      <th>4</th>\n",
       "      <td>19174421</td>\n",
       "      <td>0</td>\n",
       "      <td>4590000.0</td>\n",
       "      <td>4800000.0</td>\n",
       "      <td>0.0021</td>\n",
       "    </tr>\n",
       "  </tbody>\n",
       "</table>\n",
       "</div>"
      ],
      "text/plain": [
       "   transaction_id  cluster_id   received       sent     fee\n",
       "0        19162323           0  1821052.0  2871052.0  0.0105\n",
       "1        19162323           1  1000000.0        0.0 -0.0100\n",
       "2        19166856           0   990000.0        0.0 -0.0099\n",
       "3        19166856           1        0.0  1000000.0  0.0100\n",
       "4        19174421           0  4590000.0  4800000.0  0.0021"
      ]
     },
     "metadata": {},
     "output_type": "display_data"
    }
   ],
   "source": [
    "#column for fee\n",
    "fee = new_clusters.groupby(['transaction_id','cluster_id']).agg({'received':'sum', 'sent':'sum'}).reset_index()\n",
    "fee['fee'] = (round(fee['sent']-fee['received']))/ 10**8\n",
    "display(fee.head())"
   ]
  },
  {
   "cell_type": "code",
   "execution_count": 29,
   "metadata": {},
   "outputs": [
    {
     "name": "stdout",
     "output_type": "stream",
     "text": [
      "Cluster 1 spent on fee: 356.63479859999995 bitcoins\n",
      "Cluster 2 spent on fee: 70.71802861 bitcoins\n"
     ]
    }
   ],
   "source": [
    "print('Cluster 1 spent on fee:', (fee.query(\"cluster_id==1 & fee >= 0\")['fee']).sum(), 'bitcoins')\n",
    "print('Cluster 2 spent on fee:', (fee.query(\"cluster_id==2 & fee >= 0\")['fee']).sum(), 'bitcoins')"
   ]
  },
  {
   "cell_type": "markdown",
   "metadata": {},
   "source": [
    "#### Conclusion\n",
    "***Cluster 1 spent on fee: 356.63479860 bitcoins, Cluster 2 spent on fee: 70.71802861 bitcoins.***"
   ]
  }
 ],
 "metadata": {
  "kernelspec": {
   "display_name": "Python 3",
   "language": "python",
   "name": "python3"
  },
  "language_info": {
   "codemirror_mode": {
    "name": "ipython",
    "version": 3
   },
   "file_extension": ".py",
   "mimetype": "text/x-python",
   "name": "python",
   "nbconvert_exporter": "python",
   "pygments_lexer": "ipython3",
   "version": "3.7.4"
  }
 },
 "nbformat": 4,
 "nbformat_minor": 4
}
