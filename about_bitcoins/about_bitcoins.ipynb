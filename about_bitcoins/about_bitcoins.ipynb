{
 "cells": [
  {
   "cell_type": "markdown",
   "metadata": {},
   "source": [
    "# Задачка про биткоины\n",
    "\n",
    "Блокчейн биткоина хранит все когда-либо используемые адреса и транзакции между ними. Несмотря на кажущуюся анонимность данной криптовалюты, есть широкоизвестные методы, которые позволяют связать множество адресов, предполагая что они принадлежат одному и тому же владельцу (это может быть человек или компания). Так как все транзакции между адресами прозрачны, мы можем видеть сколько денег ушло от одного владельца к другому (это называется сash flow). \n",
    "\n",
    "***Необходимо посчитать сash flow между двумя кластерами адресов.***\n",
    "\n",
    "***Важно***\n",
    "\n",
    "Транзакция биткоина представляет собой набор входных и выходных адресов, а также указание сколько каждый адрес вносит биткоинов в данную транзакцию (для входных) или забирает из транзакции (для выходных адресов). Стоит заметить, что ничего не известно о том, сколько биткоинов переправляет конкретный входной адрес на любой другой из выходных. Также часть средств из суммы входов уходит в качестве сбора (fee) для майнеров при включении транзакции в новый блок. Мы можем найти fee (fee >= 0) как разницу между суммой входов и суммой выходов транзакции."
   ]
  },
  {
   "cell_type": "code",
   "execution_count": 1,
   "metadata": {},
   "outputs": [],
   "source": [
    "#импорт библиотек\n",
    "import pandas as pd\n",
    "import numpy as np"
   ]
  },
  {
   "cell_type": "markdown",
   "metadata": {},
   "source": [
    "#### Таблица с адресами и кластерами"
   ]
  },
  {
   "cell_type": "code",
   "execution_count": 2,
   "metadata": {},
   "outputs": [
    {
     "data": {
      "text/html": [
       "<div>\n",
       "<style scoped>\n",
       "    .dataframe tbody tr th:only-of-type {\n",
       "        vertical-align: middle;\n",
       "    }\n",
       "\n",
       "    .dataframe tbody tr th {\n",
       "        vertical-align: top;\n",
       "    }\n",
       "\n",
       "    .dataframe thead th {\n",
       "        text-align: right;\n",
       "    }\n",
       "</style>\n",
       "<table border=\"1\" class=\"dataframe\">\n",
       "  <thead>\n",
       "    <tr style=\"text-align: right;\">\n",
       "      <th></th>\n",
       "      <th>address_id</th>\n",
       "      <th>cluster_id</th>\n",
       "    </tr>\n",
       "  </thead>\n",
       "  <tbody>\n",
       "    <tr>\n",
       "      <th>0</th>\n",
       "      <td>71413451</td>\n",
       "      <td>1</td>\n",
       "    </tr>\n",
       "    <tr>\n",
       "      <th>1</th>\n",
       "      <td>71411914</td>\n",
       "      <td>1</td>\n",
       "    </tr>\n",
       "    <tr>\n",
       "      <th>2</th>\n",
       "      <td>71410369</td>\n",
       "      <td>1</td>\n",
       "    </tr>\n",
       "    <tr>\n",
       "      <th>3</th>\n",
       "      <td>71410100</td>\n",
       "      <td>1</td>\n",
       "    </tr>\n",
       "    <tr>\n",
       "      <th>4</th>\n",
       "      <td>71410040</td>\n",
       "      <td>1</td>\n",
       "    </tr>\n",
       "  </tbody>\n",
       "</table>\n",
       "</div>"
      ],
      "text/plain": [
       "   address_id  cluster_id\n",
       "0    71413451           1\n",
       "1    71411914           1\n",
       "2    71410369           1\n",
       "3    71410100           1\n",
       "4    71410040           1"
      ]
     },
     "metadata": {},
     "output_type": "display_data"
    }
   ],
   "source": [
    "#посмотри таблицу с адресами и кластерами\n",
    "address_clust = pd.read_csv('address_clust.csv')\n",
    "display(address_clust.head())"
   ]
  },
  {
   "cell_type": "code",
   "execution_count": 3,
   "metadata": {
    "scrolled": false
   },
   "outputs": [
    {
     "name": "stdout",
     "output_type": "stream",
     "text": [
      "<class 'pandas.core.frame.DataFrame'>\n",
      "RangeIndex: 6996 entries, 0 to 6995\n",
      "Data columns (total 2 columns):\n",
      " #   Column      Non-Null Count  Dtype\n",
      "---  ------      --------------  -----\n",
      " 0   address_id  6996 non-null   int64\n",
      " 1   cluster_id  6996 non-null   int64\n",
      "dtypes: int64(2)\n",
      "memory usage: 109.4 KB\n"
     ]
    }
   ],
   "source": [
    "address_clust.info()"
   ]
  },
  {
   "cell_type": "code",
   "execution_count": 4,
   "metadata": {},
   "outputs": [
    {
     "data": {
      "text/plain": [
       "0"
      ]
     },
     "execution_count": 4,
     "metadata": {},
     "output_type": "execute_result"
    }
   ],
   "source": [
    "#проверим на дубликаты\n",
    "address_clust.duplicated().sum()"
   ]
  },
  {
   "cell_type": "code",
   "execution_count": 5,
   "metadata": {
    "scrolled": true
   },
   "outputs": [
    {
     "data": {
      "text/plain": [
       "address_id    0\n",
       "cluster_id    0\n",
       "dtype: int64"
      ]
     },
     "execution_count": 5,
     "metadata": {},
     "output_type": "execute_result"
    }
   ],
   "source": [
    "#проверим на пропущенные значения\n",
    "address_clust.isnull().sum()"
   ]
  },
  {
   "cell_type": "markdown",
   "metadata": {},
   "source": [
    "#### Вывод\n",
    "\n",
    "В таблице 6996 и 2 столбца:\n",
    "- address_id - адрес куда/откуда отправлена транзакция\n",
    "- cluster_id - кластер (1 или 2)\n",
    "\n",
    "Нет ни дубликатов, ни пропущенных значений, типы данных в норме."
   ]
  },
  {
   "cell_type": "markdown",
   "metadata": {},
   "source": [
    "#### Таблица с транзакциями"
   ]
  },
  {
   "cell_type": "code",
   "execution_count": 6,
   "metadata": {
    "scrolled": false
   },
   "outputs": [
    {
     "data": {
      "text/html": [
       "<div>\n",
       "<style scoped>\n",
       "    .dataframe tbody tr th:only-of-type {\n",
       "        vertical-align: middle;\n",
       "    }\n",
       "\n",
       "    .dataframe tbody tr th {\n",
       "        vertical-align: top;\n",
       "    }\n",
       "\n",
       "    .dataframe thead th {\n",
       "        text-align: right;\n",
       "    }\n",
       "</style>\n",
       "<table border=\"1\" class=\"dataframe\">\n",
       "  <thead>\n",
       "    <tr style=\"text-align: right;\">\n",
       "      <th></th>\n",
       "      <th>id</th>\n",
       "      <th>address_id</th>\n",
       "      <th>transaction_id</th>\n",
       "      <th>received</th>\n",
       "      <th>sent</th>\n",
       "    </tr>\n",
       "  </thead>\n",
       "  <tbody>\n",
       "    <tr>\n",
       "      <th>0</th>\n",
       "      <td>87134765</td>\n",
       "      <td>46402336</td>\n",
       "      <td>19162323</td>\n",
       "      <td>0.0</td>\n",
       "      <td>1800000.0</td>\n",
       "    </tr>\n",
       "    <tr>\n",
       "      <th>1</th>\n",
       "      <td>87134766</td>\n",
       "      <td>45919235</td>\n",
       "      <td>19162323</td>\n",
       "      <td>0.0</td>\n",
       "      <td>1071052.0</td>\n",
       "    </tr>\n",
       "    <tr>\n",
       "      <th>2</th>\n",
       "      <td>87134767</td>\n",
       "      <td>46529090</td>\n",
       "      <td>19162323</td>\n",
       "      <td>1000000.0</td>\n",
       "      <td>0.0</td>\n",
       "    </tr>\n",
       "    <tr>\n",
       "      <th>3</th>\n",
       "      <td>87134768</td>\n",
       "      <td>46529091</td>\n",
       "      <td>19162323</td>\n",
       "      <td>1821052.0</td>\n",
       "      <td>0.0</td>\n",
       "    </tr>\n",
       "    <tr>\n",
       "      <th>4</th>\n",
       "      <td>87154706</td>\n",
       "      <td>46529090</td>\n",
       "      <td>19166856</td>\n",
       "      <td>0.0</td>\n",
       "      <td>1000000.0</td>\n",
       "    </tr>\n",
       "  </tbody>\n",
       "</table>\n",
       "</div>"
      ],
      "text/plain": [
       "         id  address_id  transaction_id   received       sent\n",
       "0  87134765    46402336        19162323        0.0  1800000.0\n",
       "1  87134766    45919235        19162323        0.0  1071052.0\n",
       "2  87134767    46529090        19162323  1000000.0        0.0\n",
       "3  87134768    46529091        19162323  1821052.0        0.0\n",
       "4  87154706    46529090        19166856        0.0  1000000.0"
      ]
     },
     "metadata": {},
     "output_type": "display_data"
    }
   ],
   "source": [
    "#посмотри таблицу с транзакциями\n",
    "address_stats = pd.read_csv('address_stats.csv')\n",
    "display(address_stats.head())"
   ]
  },
  {
   "cell_type": "code",
   "execution_count": 7,
   "metadata": {},
   "outputs": [
    {
     "name": "stdout",
     "output_type": "stream",
     "text": [
      "<class 'pandas.core.frame.DataFrame'>\n",
      "RangeIndex: 76724 entries, 0 to 76723\n",
      "Data columns (total 5 columns):\n",
      " #   Column          Non-Null Count  Dtype  \n",
      "---  ------          --------------  -----  \n",
      " 0   id              76724 non-null  int64  \n",
      " 1   address_id      76724 non-null  int64  \n",
      " 2   transaction_id  76724 non-null  int64  \n",
      " 3   received        76724 non-null  float64\n",
      " 4   sent            76724 non-null  float64\n",
      "dtypes: float64(2), int64(3)\n",
      "memory usage: 2.9 MB\n"
     ]
    }
   ],
   "source": [
    "address_stats.info()"
   ]
  },
  {
   "cell_type": "code",
   "execution_count": 8,
   "metadata": {},
   "outputs": [
    {
     "data": {
      "text/plain": [
       "22279"
      ]
     },
     "execution_count": 8,
     "metadata": {},
     "output_type": "execute_result"
    }
   ],
   "source": [
    "address_stats.duplicated().sum()"
   ]
  },
  {
   "cell_type": "code",
   "execution_count": 10,
   "metadata": {},
   "outputs": [
    {
     "data": {
      "text/plain": [
       "0"
      ]
     },
     "execution_count": 10,
     "metadata": {},
     "output_type": "execute_result"
    }
   ],
   "source": [
    "#проверим на дубликаты\n",
    "#address_stats.duplicated().sum()\n",
    "address_stats = address_stats.drop_duplicates().reset_index(drop=True)\n",
    "address_stats.duplicated().sum()"
   ]
  },
  {
   "cell_type": "code",
   "execution_count": 11,
   "metadata": {
    "scrolled": true
   },
   "outputs": [
    {
     "data": {
      "text/plain": [
       "id                0\n",
       "address_id        0\n",
       "transaction_id    0\n",
       "received          0\n",
       "sent              0\n",
       "dtype: int64"
      ]
     },
     "execution_count": 11,
     "metadata": {},
     "output_type": "execute_result"
    }
   ],
   "source": [
    "#проверим на пропущенные значения\n",
    "address_stats.isnull().sum()"
   ]
  },
  {
   "cell_type": "markdown",
   "metadata": {},
   "source": [
    "#### Вывод\n",
    "В таблице 76724 строк и 5 колонок:\n",
    "\n",
    "- id - просто id записи\n",
    "- address_id - адрес куда/откуда отправлена транзакция\n",
    "- transaction_id - транзакция\n",
    "- received - сумма в сатоши (1 биткоин = 10^8 сатоши) полученная данным адресом в данной транзакции\n",
    "- sent - сумма в сатоши отправленная данным адресом в данной транзакции\n",
    "\n",
    "\n",
    "В таблице нет пропущенных значений, типы данных в норме. Можно было бы сменить тип данных на обычный int в столбцах с отправленными биткоинами, но, скорее всего, в реальности не будет ровных значений, поэтому оставим float.\n",
    "В файле в столбце address_id есть дополнительные адреса, являющиеся внешними по отношению к кластеру 1 и 2, им мы сопоставляем кластер 0.\n",
    "\n",
    "А дальше начинаются вопросы.\n",
    "\n",
    "У нас было 22279 дубликатов. Это 29% от данных. С одной стороны это много, с другой, это полный дубль.\n",
    "Я решила их удалить, потому что полный дубль увеличит нам суммы, а это нам не нужно.\n",
    "\n",
    "Откуда взялись дубликаты? Для начала этот вопрос стоит адресовать тому, кто их собирал. Также, можно предположить, что это ошибка человеческого фактора: кто-то скопировал часть базы случайно. Может быть, если данные тоже где-то объединились, произошла ошибка там. \n",
    "\n",
    "В общем, цепочку надо раскручивать, а пока будем работать с тем, что есть."
   ]
  },
  {
   "cell_type": "markdown",
   "metadata": {},
   "source": [
    "#### Общая таблица"
   ]
  },
  {
   "cell_type": "code",
   "execution_count": 12,
   "metadata": {},
   "outputs": [],
   "source": [
    "#объединим таблицы\n",
    "new_clusters = address_stats.merge(address_clust, on = 'address_id', how = 'outer')"
   ]
  },
  {
   "cell_type": "code",
   "execution_count": 13,
   "metadata": {
    "scrolled": true
   },
   "outputs": [
    {
     "name": "stdout",
     "output_type": "stream",
     "text": [
      "<class 'pandas.core.frame.DataFrame'>\n",
      "Int64Index: 54445 entries, 0 to 54444\n",
      "Data columns (total 6 columns):\n",
      " #   Column          Non-Null Count  Dtype  \n",
      "---  ------          --------------  -----  \n",
      " 0   id              54445 non-null  int64  \n",
      " 1   address_id      54445 non-null  int64  \n",
      " 2   transaction_id  54445 non-null  int64  \n",
      " 3   received        54445 non-null  float64\n",
      " 4   sent            54445 non-null  float64\n",
      " 5   cluster_id      37625 non-null  float64\n",
      "dtypes: float64(3), int64(3)\n",
      "memory usage: 2.9 MB\n"
     ]
    }
   ],
   "source": [
    "new_clusters.info()"
   ]
  },
  {
   "cell_type": "code",
   "execution_count": 14,
   "metadata": {
    "scrolled": true
   },
   "outputs": [
    {
     "data": {
      "text/html": [
       "<div>\n",
       "<style scoped>\n",
       "    .dataframe tbody tr th:only-of-type {\n",
       "        vertical-align: middle;\n",
       "    }\n",
       "\n",
       "    .dataframe tbody tr th {\n",
       "        vertical-align: top;\n",
       "    }\n",
       "\n",
       "    .dataframe thead th {\n",
       "        text-align: right;\n",
       "    }\n",
       "</style>\n",
       "<table border=\"1\" class=\"dataframe\">\n",
       "  <thead>\n",
       "    <tr style=\"text-align: right;\">\n",
       "      <th></th>\n",
       "      <th>id</th>\n",
       "      <th>address_id</th>\n",
       "      <th>transaction_id</th>\n",
       "      <th>received</th>\n",
       "      <th>sent</th>\n",
       "      <th>cluster_id</th>\n",
       "    </tr>\n",
       "  </thead>\n",
       "  <tbody>\n",
       "    <tr>\n",
       "      <th>0</th>\n",
       "      <td>87134765</td>\n",
       "      <td>46402336</td>\n",
       "      <td>19162323</td>\n",
       "      <td>0.0</td>\n",
       "      <td>1800000.0</td>\n",
       "      <td>0</td>\n",
       "    </tr>\n",
       "    <tr>\n",
       "      <th>1</th>\n",
       "      <td>87154708</td>\n",
       "      <td>46402336</td>\n",
       "      <td>19166856</td>\n",
       "      <td>900000.0</td>\n",
       "      <td>0.0</td>\n",
       "      <td>0</td>\n",
       "    </tr>\n",
       "    <tr>\n",
       "      <th>2</th>\n",
       "      <td>87335816</td>\n",
       "      <td>46402336</td>\n",
       "      <td>19205422</td>\n",
       "      <td>0.0</td>\n",
       "      <td>900000.0</td>\n",
       "      <td>0</td>\n",
       "    </tr>\n",
       "    <tr>\n",
       "      <th>3</th>\n",
       "      <td>88124870</td>\n",
       "      <td>46402336</td>\n",
       "      <td>19374859</td>\n",
       "      <td>5500.0</td>\n",
       "      <td>0.0</td>\n",
       "      <td>0</td>\n",
       "    </tr>\n",
       "    <tr>\n",
       "      <th>4</th>\n",
       "      <td>95910795</td>\n",
       "      <td>46402336</td>\n",
       "      <td>21055878</td>\n",
       "      <td>0.0</td>\n",
       "      <td>5500.0</td>\n",
       "      <td>0</td>\n",
       "    </tr>\n",
       "  </tbody>\n",
       "</table>\n",
       "</div>"
      ],
      "text/plain": [
       "         id  address_id  transaction_id  received       sent  cluster_id\n",
       "0  87134765    46402336        19162323       0.0  1800000.0           0\n",
       "1  87154708    46402336        19166856  900000.0        0.0           0\n",
       "2  87335816    46402336        19205422       0.0   900000.0           0\n",
       "3  88124870    46402336        19374859    5500.0        0.0           0\n",
       "4  95910795    46402336        21055878       0.0     5500.0           0"
      ]
     },
     "metadata": {},
     "output_type": "display_data"
    }
   ],
   "source": [
    "#зададим нулевой кластер для оставшихся адресов\n",
    "new_clusters['cluster_id'] = new_clusters['cluster_id'].fillna(value='0').astype(int)\n",
    "display(new_clusters.head())"
   ]
  },
  {
   "cell_type": "code",
   "execution_count": 15,
   "metadata": {
    "scrolled": true
   },
   "outputs": [
    {
     "name": "stdout",
     "output_type": "stream",
     "text": [
      "<class 'pandas.core.frame.DataFrame'>\n",
      "Int64Index: 54445 entries, 0 to 54444\n",
      "Data columns (total 6 columns):\n",
      " #   Column          Non-Null Count  Dtype  \n",
      "---  ------          --------------  -----  \n",
      " 0   id              54445 non-null  int64  \n",
      " 1   address_id      54445 non-null  int64  \n",
      " 2   transaction_id  54445 non-null  int64  \n",
      " 3   received        54445 non-null  float64\n",
      " 4   sent            54445 non-null  float64\n",
      " 5   cluster_id      54445 non-null  int32  \n",
      "dtypes: float64(2), int32(1), int64(3)\n",
      "memory usage: 2.7 MB\n"
     ]
    }
   ],
   "source": [
    "new_clusters.info()"
   ]
  },
  {
   "cell_type": "code",
   "execution_count": 16,
   "metadata": {},
   "outputs": [
    {
     "data": {
      "text/html": [
       "<div>\n",
       "<style scoped>\n",
       "    .dataframe tbody tr th:only-of-type {\n",
       "        vertical-align: middle;\n",
       "    }\n",
       "\n",
       "    .dataframe tbody tr th {\n",
       "        vertical-align: top;\n",
       "    }\n",
       "\n",
       "    .dataframe thead th {\n",
       "        text-align: right;\n",
       "    }\n",
       "</style>\n",
       "<table border=\"1\" class=\"dataframe\">\n",
       "  <thead>\n",
       "    <tr style=\"text-align: right;\">\n",
       "      <th></th>\n",
       "      <th>id</th>\n",
       "      <th>address_id</th>\n",
       "      <th>transaction_id</th>\n",
       "      <th>received</th>\n",
       "      <th>sent</th>\n",
       "      <th>cluster_id</th>\n",
       "    </tr>\n",
       "  </thead>\n",
       "  <tbody>\n",
       "    <tr>\n",
       "      <th>0</th>\n",
       "      <td>87134765</td>\n",
       "      <td>46402336</td>\n",
       "      <td>19162323</td>\n",
       "      <td>0.0</td>\n",
       "      <td>1800000.0</td>\n",
       "      <td>0</td>\n",
       "    </tr>\n",
       "    <tr>\n",
       "      <th>6</th>\n",
       "      <td>87134766</td>\n",
       "      <td>45919235</td>\n",
       "      <td>19162323</td>\n",
       "      <td>0.0</td>\n",
       "      <td>1071052.0</td>\n",
       "      <td>0</td>\n",
       "    </tr>\n",
       "    <tr>\n",
       "      <th>7</th>\n",
       "      <td>87134767</td>\n",
       "      <td>46529090</td>\n",
       "      <td>19162323</td>\n",
       "      <td>1000000.0</td>\n",
       "      <td>0.0</td>\n",
       "      <td>1</td>\n",
       "    </tr>\n",
       "    <tr>\n",
       "      <th>1701</th>\n",
       "      <td>87134768</td>\n",
       "      <td>46529091</td>\n",
       "      <td>19162323</td>\n",
       "      <td>1821052.0</td>\n",
       "      <td>0.0</td>\n",
       "      <td>0</td>\n",
       "    </tr>\n",
       "  </tbody>\n",
       "</table>\n",
       "</div>"
      ],
      "text/plain": [
       "            id  address_id  transaction_id   received       sent  cluster_id\n",
       "0     87134765    46402336        19162323        0.0  1800000.0           0\n",
       "6     87134766    45919235        19162323        0.0  1071052.0           0\n",
       "7     87134767    46529090        19162323  1000000.0        0.0           1\n",
       "1701  87134768    46529091        19162323  1821052.0        0.0           0"
      ]
     },
     "metadata": {},
     "output_type": "display_data"
    }
   ],
   "source": [
    "#странное\n",
    "display(new_clusters.query('transaction_id==19162323'))"
   ]
  },
  {
   "cell_type": "markdown",
   "metadata": {},
   "source": [
    "#### Вывод\n",
    "Итак, у нас получилась таблица с 54445 строками и 6 колонками:\n",
    "\n",
    "    id - просто id записи\n",
    "    address_id - адрес куда/откуда отправлена транзакция\n",
    "    transaction_id - транзакция\n",
    "    received - сумма в сатоши (1 биткоин = 10^8 сатоши) полученная данным адресом в данной транзакции\n",
    "    sent - сумма в сатоши отправленная данным адресом в данной транзакции\n",
    "    cluster_id - 0, 1 или 2 кластер\n",
    "\n",
    "Дубликатов, пропущенных значений нет. Тип данных в cluster_id немного поправлен.\n",
    "\n",
    "В ячейке выше привела пример странного. Как мы знаем, fee (fee >= 0) это разница между суммой входов и суммой выходов транзакции. Но тут не сходится. Биткоинов отправлено меньше, чем получено и fee будет отриательный. Может так и должно быть, но по идее это не верно и возникает вопрос, почему так вышло. Либо что-то не так с данными, либо это не очень честная транзакция."
   ]
  },
  {
   "cell_type": "markdown",
   "metadata": {},
   "source": [
    "#### Посчитаем биткоины"
   ]
  },
  {
   "cell_type": "code",
   "execution_count": 17,
   "metadata": {},
   "outputs": [],
   "source": [
    "def func_sent_received(sent_cluster,received_cluster):\n",
    "    \"\"\"Функция для подсчета сколько биткоинов отправлено из одного кластера в другой.\n",
    "\n",
    "    Функция принимает на вход 2 выборки с номерами кластера.\n",
    "    \"\"\" \n",
    "    cluster_sent = sent_cluster\n",
    "    cluster_received = received_cluster\n",
    "    merge_clusters = cluster_received[['transaction_id','received']].merge(cluster_sent[['transaction_id','sent']])\n",
    "    print(merge_clusters.sent.sum())"
   ]
  },
  {
   "cell_type": "code",
   "execution_count": 18,
   "metadata": {},
   "outputs": [
    {
     "name": "stdout",
     "output_type": "stream",
     "text": [
      "Биткоинов из кластера 1 в кластер 2 отправлено: \n",
      "8401735240.0\n"
     ]
    }
   ],
   "source": [
    "print('Биткоинов из кластера 1 в кластер 2 отправлено: ')\n",
    "func_sent_received(new_clusters.query('cluster_id==1'),new_clusters.query('cluster_id==2'))"
   ]
  },
  {
   "cell_type": "code",
   "execution_count": 19,
   "metadata": {},
   "outputs": [
    {
     "name": "stdout",
     "output_type": "stream",
     "text": [
      "Биткоинов из кластера 2 в кластер 1 отправлено: \n",
      "51562110147.0\n"
     ]
    }
   ],
   "source": [
    "print('Биткоинов из кластера 2 в кластер 1 отправлено: ')\n",
    "func_sent_received(new_clusters.query('cluster_id==2'),new_clusters.query('cluster_id==1'))"
   ]
  },
  {
   "cell_type": "code",
   "execution_count": 20,
   "metadata": {},
   "outputs": [
    {
     "name": "stdout",
     "output_type": "stream",
     "text": [
      "Биткоинов из кластера 1 в кластер 0 отправлено: \n",
      "55536195937.0\n"
     ]
    }
   ],
   "source": [
    "print('Биткоинов из кластера 1 в кластер 0 отправлено: ')\n",
    "func_sent_received(new_clusters.query('cluster_id==1'),new_clusters.query('cluster_id==0'))"
   ]
  },
  {
   "cell_type": "code",
   "execution_count": 21,
   "metadata": {},
   "outputs": [
    {
     "name": "stdout",
     "output_type": "stream",
     "text": [
      "Биткоинов из кластера 0 в кластер 1 отправлено: \n",
      "102421428345.0\n"
     ]
    }
   ],
   "source": [
    "print('Биткоинов из кластера 0 в кластер 1 отправлено: ')\n",
    "func_sent_received(new_clusters.query('cluster_id==0'),new_clusters.query('cluster_id==1'))"
   ]
  },
  {
   "cell_type": "code",
   "execution_count": 22,
   "metadata": {},
   "outputs": [
    {
     "name": "stdout",
     "output_type": "stream",
     "text": [
      "Биткоинов из кластера 2 в кластер 0 отправлено: \n",
      "302852000.0\n"
     ]
    }
   ],
   "source": [
    "print('Биткоинов из кластера 2 в кластер 0 отправлено: ')\n",
    "func_sent_received(new_clusters.query('cluster_id==2'),new_clusters.query('cluster_id==0'))"
   ]
  },
  {
   "cell_type": "code",
   "execution_count": 23,
   "metadata": {
    "scrolled": true
   },
   "outputs": [
    {
     "name": "stdout",
     "output_type": "stream",
     "text": [
      "Биткоинов из кластера 0 в кластер 2 отправлено: \n",
      "3065603309.0\n"
     ]
    }
   ],
   "source": [
    "print('Биткоинов из кластера 0 в кластер 2 отправлено: ')\n",
    "func_sent_received(new_clusters.query('cluster_id==0'),new_clusters.query('cluster_id==2'))"
   ]
  },
  {
   "cell_type": "markdown",
   "metadata": {},
   "source": [
    "Больше всего биткоинов отправлено ***из кластера 0 в кластер 1: 102 421 428 345.***\n",
    "\n",
    "Далее, с небольшой разницей, транзакции биткоинов .***из кластера 1 в кластер 0(55 536 195 937)*** и ***из кластера 2 в кластер 1(51 562 110 147).***\n",
    "\n",
    "В конце у нас транзакции ***из кластера 1 в кластер 2 (8 401 735 240)*** и ***из кластера 0 в кластер 2(3 065 603 309).***\n",
    "\n",
    "В самом конце транзакции ***из кластера 2 в кластер 0 - 302 852 000 биткоинов.***\n",
    "\n",
    "\n",
    "Всего биткоинов отправлено:\n",
    "\n",
    "- из 0 кластера 105 487 031 654 биткоинов.\n",
    "\n",
    "- из 1 кластера 63 937 931 177 биткоинов.\n",
    "\n",
    "- из 2 кластера 51 864 962 147 биткоинов.\n",
    "\n",
    "\n",
    "Общая сумма: 221 289 924 978 биткоинов.\n",
    "\n",
    "Так как, нам не нужно рассчитывать, сколько биткоинов пришло, то и fee мы тут не учитываем."
   ]
  },
  {
   "cell_type": "markdown",
   "metadata": {},
   "source": [
    "#### Посчитаем fee"
   ]
  },
  {
   "cell_type": "code",
   "execution_count": 24,
   "metadata": {},
   "outputs": [
    {
     "data": {
      "text/html": [
       "<div>\n",
       "<style scoped>\n",
       "    .dataframe tbody tr th:only-of-type {\n",
       "        vertical-align: middle;\n",
       "    }\n",
       "\n",
       "    .dataframe tbody tr th {\n",
       "        vertical-align: top;\n",
       "    }\n",
       "\n",
       "    .dataframe thead th {\n",
       "        text-align: right;\n",
       "    }\n",
       "</style>\n",
       "<table border=\"1\" class=\"dataframe\">\n",
       "  <thead>\n",
       "    <tr style=\"text-align: right;\">\n",
       "      <th></th>\n",
       "      <th>transaction_id</th>\n",
       "      <th>cluster_id</th>\n",
       "      <th>received</th>\n",
       "      <th>sent</th>\n",
       "      <th>fee</th>\n",
       "    </tr>\n",
       "  </thead>\n",
       "  <tbody>\n",
       "    <tr>\n",
       "      <th>0</th>\n",
       "      <td>19162323</td>\n",
       "      <td>0</td>\n",
       "      <td>1821052.0</td>\n",
       "      <td>2871052.0</td>\n",
       "      <td>-1050000.0</td>\n",
       "    </tr>\n",
       "    <tr>\n",
       "      <th>1</th>\n",
       "      <td>19162323</td>\n",
       "      <td>1</td>\n",
       "      <td>1000000.0</td>\n",
       "      <td>0.0</td>\n",
       "      <td>1000000.0</td>\n",
       "    </tr>\n",
       "    <tr>\n",
       "      <th>2</th>\n",
       "      <td>19166856</td>\n",
       "      <td>0</td>\n",
       "      <td>990000.0</td>\n",
       "      <td>0.0</td>\n",
       "      <td>990000.0</td>\n",
       "    </tr>\n",
       "    <tr>\n",
       "      <th>3</th>\n",
       "      <td>19166856</td>\n",
       "      <td>1</td>\n",
       "      <td>0.0</td>\n",
       "      <td>1000000.0</td>\n",
       "      <td>-1000000.0</td>\n",
       "    </tr>\n",
       "    <tr>\n",
       "      <th>4</th>\n",
       "      <td>19174421</td>\n",
       "      <td>0</td>\n",
       "      <td>4590000.0</td>\n",
       "      <td>4800000.0</td>\n",
       "      <td>-210000.0</td>\n",
       "    </tr>\n",
       "  </tbody>\n",
       "</table>\n",
       "</div>"
      ],
      "text/plain": [
       "   transaction_id  cluster_id   received       sent        fee\n",
       "0        19162323           0  1821052.0  2871052.0 -1050000.0\n",
       "1        19162323           1  1000000.0        0.0  1000000.0\n",
       "2        19166856           0   990000.0        0.0   990000.0\n",
       "3        19166856           1        0.0  1000000.0 -1000000.0\n",
       "4        19174421           0  4590000.0  4800000.0  -210000.0"
      ]
     },
     "metadata": {},
     "output_type": "display_data"
    }
   ],
   "source": [
    "#выведем fee в отдельный столбец\n",
    "fee = new_clusters.groupby(['transaction_id','cluster_id']).agg({'received':'sum', 'sent':'sum'}).reset_index()\n",
    "fee['fee'] = fee['received']-fee['sent']\n",
    "display(fee.head())"
   ]
  },
  {
   "cell_type": "code",
   "execution_count": 25,
   "metadata": {},
   "outputs": [
    {
     "name": "stdout",
     "output_type": "stream",
     "text": [
      "Кластер 1 потратил на fee: 35670058860.0 биткоинов\n",
      "Кластер 2 потратил на fee: 7071802861.0 биткоинов\n"
     ]
    }
   ],
   "source": [
    "print('Кластер 1 потратил на fee:', (fee.query(\"cluster_id==1 & fee >= 0\")['fee']).sum(), 'биткоинов')\n",
    "print('Кластер 2 потратил на fee:', (fee.query(\"cluster_id==2 & fee >= 0\")['fee']).sum(), 'биткоинов')"
   ]
  },
  {
   "cell_type": "markdown",
   "metadata": {},
   "source": [
    "#### Вывод\n",
    "\n",
    "Здесь мы возвращаемся к замечанию выше про отрицательную fee. Повторюсь, что, возможно, так и должно быть. Если бы я работала в этой сфере,я бы значала точно. Но, по логике, комиссия не может быть отрицательной. \n",
    "\n",
    "В задании указано, что нужно брать значения fee от ноля, поэтому\n",
    "\n",
    "***Кластер 2 тратит 35 670 058 860 биткоинов, а 1 кластер тратит 7 071 802 861 биткоинов.***"
   ]
  }
 ],
 "metadata": {
  "kernelspec": {
   "display_name": "Python 3",
   "language": "python",
   "name": "python3"
  },
  "language_info": {
   "codemirror_mode": {
    "name": "ipython",
    "version": 3
   },
   "file_extension": ".py",
   "mimetype": "text/x-python",
   "name": "python",
   "nbconvert_exporter": "python",
   "pygments_lexer": "ipython3",
   "version": "3.7.6"
  }
 },
 "nbformat": 4,
 "nbformat_minor": 4
}
